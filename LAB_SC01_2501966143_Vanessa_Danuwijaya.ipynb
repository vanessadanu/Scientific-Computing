{
  "nbformat": 4,
  "nbformat_minor": 0,
  "metadata": {
    "colab": {
      "name": "LAB_SC01_2501966143_Vanessa Danuwijaya.ipynb",
      "provenance": [],
      "collapsed_sections": [],
      "authorship_tag": "ABX9TyMpXvvosLibbE8fnWHuVKZp",
      "include_colab_link": true
    },
    "kernelspec": {
      "name": "python3",
      "display_name": "Python 3"
    },
    "language_info": {
      "name": "python"
    }
  },
  "cells": [
    {
      "cell_type": "markdown",
      "metadata": {
        "id": "view-in-github",
        "colab_type": "text"
      },
      "source": [
        "<a href=\"https://colab.research.google.com/github/vanessadanu/Scientific-Computing/blob/main/LAB_SC01_2501966143_Vanessa_Danuwijaya.ipynb\" target=\"_parent\"><img src=\"https://colab.research.google.com/assets/colab-badge.svg\" alt=\"Open In Colab\"/></a>"
      ]
    },
    {
      "cell_type": "markdown",
      "source": [
        "**Variables**"
      ],
      "metadata": {
        "id": "PsqXENJocHeQ"
      }
    },
    {
      "cell_type": "code",
      "source": [
        "import time\n",
        "print(time.ctime())"
      ],
      "metadata": {
        "colab": {
          "base_uri": "https://localhost:8080/"
        },
        "id": "xp5GEMTwZxWV",
        "outputId": "3b58aac9-7cd4-4712-8e2e-b6bd3a709b68"
      },
      "execution_count": null,
      "outputs": [
        {
          "output_type": "stream",
          "name": "stdout",
          "text": [
            "Wed Feb 23 02:30:31 2022\n"
          ]
        }
      ]
    },
    {
      "cell_type": "code",
      "source": [
        "x=1\n",
        "x"
      ],
      "metadata": {
        "colab": {
          "base_uri": "https://localhost:8080/"
        },
        "id": "Qn-D4a0TbtAr",
        "outputId": "6a6ec7d6-3792-4588-ff46-fd10d543c9df"
      },
      "execution_count": null,
      "outputs": [
        {
          "output_type": "execute_result",
          "data": {
            "text/plain": [
              "1"
            ]
          },
          "metadata": {},
          "execution_count": 8
        }
      ]
    },
    {
      "cell_type": "code",
      "source": [
        "x=x+1\n",
        "x"
      ],
      "metadata": {
        "colab": {
          "base_uri": "https://localhost:8080/"
        },
        "id": "_VqBTQoYbuoJ",
        "outputId": "332d347a-fb29-43d2-c872-8399dcfcf0e2"
      },
      "execution_count": null,
      "outputs": [
        {
          "output_type": "execute_result",
          "data": {
            "text/plain": [
              "2"
            ]
          },
          "metadata": {},
          "execution_count": 9
        }
      ]
    },
    {
      "cell_type": "code",
      "source": [
        "x=1\n",
        "y=x+1\n",
        "x=2\n",
        "y"
      ],
      "metadata": {
        "colab": {
          "base_uri": "https://localhost:8080/"
        },
        "id": "3E0TZoJIbzTQ",
        "outputId": "b2276dc9-ad9e-48f1-e68e-053c1782e81a"
      },
      "execution_count": null,
      "outputs": [
        {
          "output_type": "execute_result",
          "data": {
            "text/plain": [
              "2"
            ]
          },
          "metadata": {},
          "execution_count": 10
        }
      ]
    },
    {
      "cell_type": "markdown",
      "source": [
        "**Numpy**"
      ],
      "metadata": {
        "id": "ITK9EDfjcNt6"
      }
    },
    {
      "cell_type": "code",
      "source": [
        "import numpy as np"
      ],
      "metadata": {
        "id": "E8Q1wsqfcO6C"
      },
      "execution_count": null,
      "outputs": []
    },
    {
      "cell_type": "code",
      "source": [
        "x = np.array([1, 4, 3])\n",
        "x"
      ],
      "metadata": {
        "colab": {
          "base_uri": "https://localhost:8080/"
        },
        "id": "q7U7IJM9dMn-",
        "outputId": "8493d6ce-3d71-4f2a-c7e0-78a4816c43ca"
      },
      "execution_count": null,
      "outputs": [
        {
          "output_type": "execute_result",
          "data": {
            "text/plain": [
              "array([1, 4, 3])"
            ]
          },
          "metadata": {},
          "execution_count": 14
        }
      ]
    },
    {
      "cell_type": "code",
      "source": [
        "y = np.array([[1, 4, 3], [2, 4, 7]])\n",
        "y"
      ],
      "metadata": {
        "colab": {
          "base_uri": "https://localhost:8080/"
        },
        "id": "6BQyY-gUdcRr",
        "outputId": "cafc9b44-a144-4290-cac4-15a707440a49"
      },
      "execution_count": null,
      "outputs": [
        {
          "output_type": "execute_result",
          "data": {
            "text/plain": [
              "array([[1, 4, 3],\n",
              "       [2, 4, 7]])"
            ]
          },
          "metadata": {},
          "execution_count": 16
        }
      ]
    },
    {
      "cell_type": "markdown",
      "source": [
        "**Function**"
      ],
      "metadata": {
        "id": "7KLogpNIe1az"
      }
    },
    {
      "cell_type": "code",
      "source": [
        "def my_adder(a, b, c):\n",
        "  \"\"\"\n",
        "  function to sum the 3 numbers\n",
        "  Input: 3 numbers a, b, c\n",
        "  Output: the sum of a, b, c\n",
        "  Author:\n",
        "  Date: today\n",
        "  \"\"\"\n",
        "\n",
        "  #this is the summation\n",
        "  out = a+b+c\n",
        "\n",
        "  return out"
      ],
      "metadata": {
        "id": "8Wdma24_e3FD"
      },
      "execution_count": null,
      "outputs": []
    },
    {
      "cell_type": "code",
      "source": [
        "help(my_adder)"
      ],
      "metadata": {
        "colab": {
          "base_uri": "https://localhost:8080/"
        },
        "id": "l3eQ_-Q_hEyG",
        "outputId": "7fdbecc2-8642-4788-95de-d45c875f3a2a"
      },
      "execution_count": null,
      "outputs": [
        {
          "output_type": "stream",
          "name": "stdout",
          "text": [
            "Help on function my_adder in module __main__:\n",
            "\n",
            "my_adder(a, b, c)\n",
            "    function to sum the 3 numbers\n",
            "    Input: 3 numbers a, b, c\n",
            "    Output: the sum of a, b, c\n",
            "    Author:\n",
            "    Date: today\n",
            "\n"
          ]
        }
      ]
    },
    {
      "cell_type": "code",
      "source": [
        "my_adder(2, 3, 5)"
      ],
      "metadata": {
        "colab": {
          "base_uri": "https://localhost:8080/"
        },
        "id": "3Ah5fY1WgA3O",
        "outputId": "e1dad1a0-c8d1-4925-c7ed-aea785492025"
      },
      "execution_count": null,
      "outputs": [
        {
          "output_type": "execute_result",
          "data": {
            "text/plain": [
              "10"
            ]
          },
          "metadata": {},
          "execution_count": 53
        }
      ]
    },
    {
      "cell_type": "markdown",
      "source": [
        "**Operations and Statements**"
      ],
      "metadata": {
        "id": "xAvqHmT3iLTw"
      }
    },
    {
      "cell_type": "code",
      "source": [
        "def my_thermo_stat(temp, desired_temp):\n",
        "  if temp < desired_temp-5:\n",
        "    status = \"Heat\"\n",
        "  elif temp > desired_temp+5:\n",
        "    status = \"AC\"\n",
        "  else:\n",
        "    status = \"Off\"\n",
        "\n",
        "  return status"
      ],
      "metadata": {
        "id": "eFwX1yyViN-h"
      },
      "execution_count": null,
      "outputs": []
    },
    {
      "cell_type": "code",
      "source": [
        "status = my_thermo_stat(65, 60)\n",
        "status"
      ],
      "metadata": {
        "colab": {
          "base_uri": "https://localhost:8080/",
          "height": 35
        },
        "id": "o3ESK_xpisZr",
        "outputId": "0f8ac468-ee58-4d51-89c3-62ed1d86cb0a"
      },
      "execution_count": null,
      "outputs": [
        {
          "output_type": "execute_result",
          "data": {
            "application/vnd.google.colaboratory.intrinsic+json": {
              "type": "string"
            },
            "text/plain": [
              "'Off'"
            ]
          },
          "metadata": {},
          "execution_count": 27
        }
      ]
    },
    {
      "cell_type": "code",
      "source": [
        "x=3\n",
        "if x>1 and x<2:\n",
        "  y=2\n",
        "elif x>2 and x<4:\n",
        "  y=4\n",
        "else: y=0\n",
        "\n",
        "print(y)"
      ],
      "metadata": {
        "colab": {
          "base_uri": "https://localhost:8080/"
        },
        "id": "GYR7esVVkdj8",
        "outputId": "afea9dab-21c8-4154-b259-3f6e15c3e085"
      },
      "execution_count": null,
      "outputs": [
        {
          "output_type": "stream",
          "name": "stdout",
          "text": [
            "4\n"
          ]
        }
      ]
    },
    {
      "cell_type": "code",
      "source": [
        "x=3\n",
        "if 1<x<2:\n",
        "  y=2\n",
        "elif 2<x<4:\n",
        "  y=4\n",
        "else: \n",
        "  y=0\n",
        "\n",
        "print(y)"
      ],
      "metadata": {
        "colab": {
          "base_uri": "https://localhost:8080/"
        },
        "id": "xYOOnXEbkP3P",
        "outputId": "cc68462a-e8d5-40a5-a31b-22cac4ea22f9"
      },
      "execution_count": null,
      "outputs": [
        {
          "output_type": "stream",
          "name": "stdout",
          "text": [
            "4\n"
          ]
        }
      ]
    },
    {
      "cell_type": "markdown",
      "source": [
        "**String Data Type**"
      ],
      "metadata": {
        "id": "xb3TV0hZqNtD"
      }
    },
    {
      "cell_type": "code",
      "source": [
        "name = \"vanessa danuwijaya\"\n",
        "name"
      ],
      "metadata": {
        "colab": {
          "base_uri": "https://localhost:8080/",
          "height": 35
        },
        "id": "2SchsPwHqP0N",
        "outputId": "f67eb624-21c8-4788-8e06-62f0d3c3e62c"
      },
      "execution_count": null,
      "outputs": [
        {
          "output_type": "execute_result",
          "data": {
            "application/vnd.google.colaboratory.intrinsic+json": {
              "type": "string"
            },
            "text/plain": [
              "'vanessa danuwijaya'"
            ]
          },
          "metadata": {},
          "execution_count": 34
        }
      ]
    },
    {
      "cell_type": "code",
      "source": [
        "name.title()"
      ],
      "metadata": {
        "colab": {
          "base_uri": "https://localhost:8080/",
          "height": 35
        },
        "id": "NQQKPJMGqWrm",
        "outputId": "2a915f04-afc5-48f7-aea9-33c3551ce0a3"
      },
      "execution_count": null,
      "outputs": [
        {
          "output_type": "execute_result",
          "data": {
            "application/vnd.google.colaboratory.intrinsic+json": {
              "type": "string"
            },
            "text/plain": [
              "'Vanessa Danuwijaya'"
            ]
          },
          "metadata": {},
          "execution_count": 35
        }
      ]
    },
    {
      "cell_type": "code",
      "source": [
        "print(name.upper())\n",
        "print(name.lower())"
      ],
      "metadata": {
        "colab": {
          "base_uri": "https://localhost:8080/"
        },
        "id": "ANSzrqfCqaWC",
        "outputId": "25d54e52-a940-4a1a-b4bd-e83c31b61897"
      },
      "execution_count": null,
      "outputs": [
        {
          "output_type": "stream",
          "name": "stdout",
          "text": [
            "VANESSA DANUWIJAYA\n",
            "vanessa danuwijaya\n"
          ]
        }
      ]
    },
    {
      "cell_type": "code",
      "source": [
        "first_name = \"vanessa\"\n",
        "last_name = \"danuwijaya\""
      ],
      "metadata": {
        "id": "FS-7BPrLquKh"
      },
      "execution_count": null,
      "outputs": []
    },
    {
      "cell_type": "code",
      "source": [
        "print(\"Full Name: \" + first_name.title() + \" \" + last_name.title())"
      ],
      "metadata": {
        "colab": {
          "base_uri": "https://localhost:8080/"
        },
        "id": "BEBAFDgLqy8g",
        "outputId": "6be4bfec-a655-4064-ad46-b0ac1eaf71e3"
      },
      "execution_count": null,
      "outputs": [
        {
          "output_type": "stream",
          "name": "stdout",
          "text": [
            "Full Name: Vanessa Danuwijaya\n"
          ]
        }
      ]
    },
    {
      "cell_type": "code",
      "source": [
        "full_name = first_name + \" \" + last_name\n",
        "print(\"Full Name: \" + full_name.title())"
      ],
      "metadata": {
        "colab": {
          "base_uri": "https://localhost:8080/"
        },
        "id": "S--A4ZXKrOPR",
        "outputId": "452bcc5a-9082-4d5a-dd62-68dee3c1b71c"
      },
      "execution_count": null,
      "outputs": [
        {
          "output_type": "stream",
          "name": "stdout",
          "text": [
            "Full Name: Vanessa Danuwijaya\n"
          ]
        }
      ]
    }
  ]
}